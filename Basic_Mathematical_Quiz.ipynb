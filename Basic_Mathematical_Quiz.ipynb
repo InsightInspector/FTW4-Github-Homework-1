{
  "nbformat": 4,
  "nbformat_minor": 0,
  "metadata": {
    "colab": {
      "name": "Basic Mathematical Quiz",
      "provenance": [],
      "authorship_tag": "ABX9TyPS+ptanth8KpCAFtl/qXaK",
      "include_colab_link": true
    },
    "kernelspec": {
      "name": "python3",
      "display_name": "Python 3"
    }
  },
  "cells": [
    {
      "cell_type": "markdown",
      "metadata": {
        "id": "view-in-github",
        "colab_type": "text"
      },
      "source": [
        "<a href=\"https://colab.research.google.com/github/InsightInspector/FTW4-Github-Homework-1/blob/master/Basic_Mathematical_Quiz.ipynb\" target=\"_parent\"><img src=\"https://colab.research.google.com/assets/colab-badge.svg\" alt=\"Open In Colab\"/></a>"
      ]
    },
    {
      "cell_type": "code",
      "metadata": {
        "id": "Cjfh-HcUJxL1",
        "colab_type": "code",
        "colab": {
          "base_uri": "https://localhost:8080/",
          "height": 261
        },
        "outputId": "6289aa61-241f-41fa-f823-9a917b787038"
      },
      "source": [
        "#Header part of the quiz\n",
        "def header():\n",
        "\n",
        "  print(\"Basic Mathematical Quiz\")\n",
        "\n",
        "  Name = input(\"\\nPlease enter your name: \").title()\n",
        "  print()\n",
        "\n",
        "header()\n",
        "\n",
        "#Quiz items\n",
        "def quiz():\n",
        "  \n",
        "  qa={\"What is 10 + 57?\": \"67\",\n",
        "      \"What is 2 * 7?\": \"14\",\n",
        "      \"What is 10 - 5?\": \"5\",\n",
        "      \"What is 1500 / 3?\": \"500\", \n",
        "      \"What is (12+2)*2?\": \"28\"}\n",
        "  \n",
        "  score = 0\n",
        "\n",
        "  for q,a in qa.items():\n",
        "    if input(q) == a:\n",
        "      score += 1\n",
        "      print(\"Correct\")\n",
        "      \n",
        "    else:\n",
        "      print(\"Sorry. The correct answer is \\\"{}\\\".\".format(a))\n",
        "    \n",
        "  grade = (score / len(qa))*100\n",
        "\n",
        "  if grade > 70:\n",
        "    print(\"Congratulations, you passed! Your grade is: \", int(grade),\"%\")\n",
        "  else:\n",
        "    print(\"Please try again. Your grade is: \" , int(grade),\"%\")\n",
        "\n",
        "quiz()\n"
      ],
      "execution_count": 62,
      "outputs": [
        {
          "output_type": "stream",
          "text": [
            "Basic Mathematical Quiz\n",
            "\n",
            "Please enter your name: Grace Estrada\n",
            "\n",
            "What is 10 + 57?67\n",
            "Correct\n",
            "What is 2 * 7?14\n",
            "Correct\n",
            "What is 10 - 5?8\n",
            "Sorry. The correct answer is \"5\".\n",
            "What is 1500 / 3?500\n",
            "Correct\n",
            "What is (12+2)*2?54\n",
            "Sorry. The correct answer is \"28\".\n",
            "Please try again. Your grade is:  60 %\n"
          ],
          "name": "stdout"
        }
      ]
    },
    {
      "cell_type": "code",
      "metadata": {
        "id": "aNvYVDkYOUV8",
        "colab_type": "code",
        "colab": {}
      },
      "source": [
        ""
      ],
      "execution_count": null,
      "outputs": []
    }
  ]
}